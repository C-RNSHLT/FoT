{
 "cells": [
  {
   "cell_type": "markdown",
   "metadata": {},
   "source": [
    "# Shot and Pass Maps"
   ]
  },
  {
   "cell_type": "code",
   "execution_count": 136,
   "metadata": {},
   "outputs": [],
   "source": [
    "import matplotlib.pyplot as plt\n",
    "import numpy as np\n",
    "import requests\n",
    "import pandas as pd\n",
    "from pandas import json_normalize\n",
    "from adjustText import adjust_text\n",
    "from FCPython import createPitch\n",
    "from genfunc import *"
   ]
  },
  {
   "cell_type": "markdown",
   "metadata": {},
   "source": [
    "### FoT Shot Map"
   ]
  },
  {
   "cell_type": "code",
   "execution_count": 106,
   "metadata": {},
   "outputs": [],
   "source": [
    "#Size of pitch in yards\n",
    "pitchLength=120\n",
    "pitchWidth=80"
   ]
  },
  {
   "cell_type": "code",
   "execution_count": 112,
   "metadata": {},
   "outputs": [],
   "source": [
    "#ID for England VS Sweden WWC\n",
    "matchID = 15986\n",
    "comp_id = 43\n",
    "season_id = 3\n",
    "home_team = \"Barcelona\"\n",
    "away_team = \"Girona\""
   ]
  },
  {
   "cell_type": "code",
   "execution_count": 62,
   "metadata": {},
   "outputs": [],
   "source": [
    "base_url = \"https://raw.githubusercontent.com/statsbomb/open-data/master/data/\"\n",
    "comp_url = base_url + \"matches/{}/{}.json\"\n",
    "event_url = base_url + \"events/{}.json\""
   ]
  },
  {
   "cell_type": "code",
   "execution_count": 63,
   "metadata": {},
   "outputs": [
    {
     "data": {
      "text/plain": [
       "'\\ndef load_data(comp_id, season_id):\\n    matches = requests.get(url=comp_url.format(comp_id,season_id)).json()\\n    \\n    match_ids = [match[\"match_id\"] for match in matches]\\n    \\n    all_events = []\\n    for match_id in match_ids:\\n        events = requests.get(url=event_url.format(match_id)).json()\\n        all_events.append(events)\\n    \\n    return all_events\\n'"
      ]
     },
     "execution_count": 63,
     "metadata": {},
     "output_type": "execute_result"
    }
   ],
   "source": [
    "'''\n",
    "def load_data(comp_id, season_id):\n",
    "    matches = requests.get(url=comp_url.format(comp_id,season_id)).json()\n",
    "    \n",
    "    match_ids = [match[\"match_id\"] for match in matches]\n",
    "    \n",
    "    all_events = []\n",
    "    for match_id in match_ids:\n",
    "        events = requests.get(url=event_url.format(match_id)).json()\n",
    "        all_events.append(events)\n",
    "    \n",
    "    return all_events\n",
    "'''"
   ]
  },
  {
   "cell_type": "code",
   "execution_count": 141,
   "metadata": {},
   "outputs": [],
   "source": [
    "#Function which creates the shot map\n",
    "def basic_shot_map(matchID):\n",
    "    #Load event data of the reqiured match\n",
    "    match = requests.get(url=event_url.format(matchID)).json()\n",
    "    #Turn json format into pandas dataframe\n",
    "    df = json_normalize(match, sep=\"_\").assign(match_id = requests.get(url=event_url.format(matchID)))\n",
    "    #Extract the shots from all the events\n",
    "    shots = df.loc[df[\"type_name\"] == \"Shot\"]\n",
    "    #Create Pitch\n",
    "    (fig, ax) = createPitch(pitchLength, picthWidth, \"yards\", \"gray\")\n",
    "    #plot the shots\n",
    "    for i,shot in shots.iterrows():\n",
    "        x=shot['location'][0]\n",
    "        y=shot['location'][1]\n",
    "\n",
    "        goal=shot['shot_outcome_name']=='Goal'\n",
    "        team_name=shot['team_name']\n",
    "\n",
    "        circleSize=np.sqrt(shot['shot_statsbomb_xg']*50)\n",
    "\n",
    "        if (team_name==home_team):\n",
    "            if goal:\n",
    "                shotCircle=plt.Circle((x,pitchWidth-y),circleSize,color=\"red\")\n",
    "                plt.text((x+1),pitchWidth-y+1,shot['player_name']) \n",
    "            else:\n",
    "                shotCircle=plt.Circle((x,pitchWidth-y),circleSize,color=\"red\")     \n",
    "                shotCircle.set_alpha(.2)\n",
    "        elif (team_name==away_team):\n",
    "            if goal:\n",
    "                shotCircle=plt.Circle((pitchLength-x,y),circleSize,color=\"blue\") \n",
    "                plt.text((pitchLength-x+1),y+1,shot['player_name'])\n",
    "            else:\n",
    "                shotCircle=plt.Circle((pitchLength-x,y),circleSize,color=\"blue\")      \n",
    "                shotCircle.set_alpha(.2)\n",
    "        ax.add_patch(shotCircle)\n",
    "\n",
    "\n",
    "    plt.text(5,75,away_team + ' shots') \n",
    "    plt.text(80,75,home_team + ' shots') \n",
    "\n",
    "\n",
    "    fig.set_size_inches(10, 7)\n",
    "    plt.show()\n",
    "    return ax"
   ]
  },
  {
   "cell_type": "code",
   "execution_count": 142,
   "metadata": {},
   "outputs": [
    {
     "data": {
      "image/png": "[encoded data removed]",
      "text/plain": [
       "<Figure size 720x504 with 1 Axes>"
      ]
     },
     "metadata": {
      "needs_background": "light"
     },
     "output_type": "display_data"
    },
    {
     "data": {
      "text/plain": [
       "<matplotlib.axes._subplots.AxesSubplot at 0x7f5ce77629d0>"
      ]
     },
     "execution_count": 142,
     "metadata": {},
     "output_type": "execute_result"
    }
   ],
   "source": [
    "basic_shot_map(15986)"
   ]
  },
  {
   "cell_type": "code",
   "execution_count": null,
   "metadata": {},
   "outputs": [],
   "source": []
  }
 ],
 "metadata": {
  "kernelspec": {
   "display_name": "Python 3",
   "language": "python",
   "name": "python3"
  },
  "language_info": {
   "codemirror_mode": {
    "name": "ipython",
    "version": 3
   },
   "file_extension": ".py",
   "mimetype": "text/x-python",
   "name": "python",
   "nbconvert_exporter": "python",
   "pygments_lexer": "ipython3",
   "version": "3.7.7"
  }
 },
 "nbformat": 4,
 "nbformat_minor": 4
}
