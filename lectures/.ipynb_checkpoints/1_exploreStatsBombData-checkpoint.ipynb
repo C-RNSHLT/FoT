{
 "cells": [
  {
   "cell_type": "markdown",
   "metadata": {},
   "source": [
    "# 1. Exploring the StatsBomb dataset"
   ]
  },
  {
   "cell_type": "code",
   "execution_count": 1,
   "metadata": {},
   "outputs": [
    {
     "name": "stdout",
     "output_type": "stream",
     "text": [
      "The history saving thread hit an unexpected error (DatabaseError('database disk image is malformed')).History will not be written to the database.\n"
     ]
    }
   ],
   "source": [
    "import requests\n",
    "import pandas as pd"
   ]
  },
  {
   "cell_type": "markdown",
   "metadata": {},
   "source": [
    "### Load in data\n",
    "With the `format` function we can use the `{}` to insert Competition ID and Season ID in the `matches_url` and the Match ID (extracted from the match data) in the `events_url`."
   ]
  },
  {
   "cell_type": "code",
   "execution_count": 2,
   "metadata": {},
   "outputs": [],
   "source": [
    "base_url = \"https://raw.githubusercontent.com/statsbomb/open-data/master/data/\"\n",
    "matches_url = base_url + \"matches/{}/{}.json\"\n",
    "events_url = base_url + \"events/{}.json\""
   ]
  },
  {
   "cell_type": "markdown",
   "metadata": {},
   "source": [
    "In this function we extract all the event data from StatsBomb"
   ]
  },
  {
   "cell_type": "code",
   "execution_count": 3,
   "metadata": {},
   "outputs": [],
   "source": [
    "def load_data(competition_id, season_id):\n",
    "    matches = requests.get(url=matches_url.format(competition_id, season_id)).json()\n",
    "    match_ids = [match[\"match_id\"] for match in matches]\n",
    "    \n",
    "    #all_events = []\n",
    "    for match_id in match_ids:\n",
    "        events = requests.get(url=events_url.format(match_id)).json()\n",
    "        #all_events.append(event)\n",
    "    \n",
    "    return events"
   ]
  },
  {
   "cell_type": "code",
   "execution_count": 4,
   "metadata": {},
   "outputs": [],
   "source": [
    "#The 2018 World Cup has the ID´s 43 and 3\n",
    "competition_id = 43\n",
    "season_id = 3"
   ]
  },
  {
   "cell_type": "markdown",
   "metadata": {},
   "source": [
    "Load all event into the `events` variable."
   ]
  },
  {
   "cell_type": "code",
   "execution_count": null,
   "metadata": {},
   "outputs": [],
   "source": [
    "events = load_data(competition_id, season_id)"
   ]
  },
  {
   "cell_type": "markdown",
   "metadata": {},
   "source": [
    "We can now extract e.g. all passes from the world cup."
   ]
  },
  {
   "cell_type": "code",
   "execution_count": null,
   "metadata": {},
   "outputs": [],
   "source": [
    "passes = [x for x in events if x[\"type\"][\"name\"] == \"Pass\"]"
   ]
  },
  {
   "cell_type": "code",
   "execution_count": null,
   "metadata": {},
   "outputs": [],
   "source": [
    "all_passes = []\n",
    "for p in passes:\n",
    "    attributes = {\n",
    "        \"player_name\": p[\"player\"][\"name\"],\n",
    "        \"length\": p[\"pass\"][\"length\"],\n",
    "    }\n",
    "    all_passes.append(attributes)\n",
    "pd.DataFrame(all_passes)"
   ]
  },
  {
   "cell_type": "code",
   "execution_count": null,
   "metadata": {},
   "outputs": [],
   "source": [
    "shots = [x for x in events if x[\"type\"][\"name\"] == \"Shot\"]"
   ]
  },
  {
   "cell_type": "code",
   "execution_count": null,
   "metadata": {},
   "outputs": [],
   "source": [
    "all_shots = []\n",
    "for s in shots:\n",
    "    attributes = {\n",
    "        \"player_name\": s[\"player\"][\"name\"],\n",
    "        \"type\": s[\"shot\"][\"type\"][\"name\"],\n",
    "        \"outcome\": s[\"shot\"][\"outcome\"][\"name\"],\n",
    "        \"xg\": s[\"shot\"][\"statsbomb_xg\"],\n",
    "    }\n",
    "    all_shots.append(attributes)\n",
    "pd.DataFrame(all_shots)"
   ]
  },
  {
   "cell_type": "code",
   "execution_count": null,
   "metadata": {},
   "outputs": [],
   "source": [
    "shots[0]"
   ]
  },
  {
   "cell_type": "code",
   "execution_count": null,
   "metadata": {},
   "outputs": [],
   "source": []
  }
 ],
 "metadata": {
  "kernelspec": {
   "display_name": "Python 3",
   "language": "python",
   "name": "python3"
  },
  "language_info": {
   "codemirror_mode": {
    "name": "ipython",
    "version": 3
   },
   "file_extension": ".py",
   "mimetype": "text/x-python",
   "name": "python",
   "nbconvert_exporter": "python",
   "pygments_lexer": "ipython3",
   "version": "3.7.7"
  }
 },
 "nbformat": 4,
 "nbformat_minor": 4
}
