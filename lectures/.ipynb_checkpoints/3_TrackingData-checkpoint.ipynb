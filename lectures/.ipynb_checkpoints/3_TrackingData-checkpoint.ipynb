{
 "cells": [
  {
   "cell_type": "markdown",
   "metadata": {},
   "source": [
    "# 3. Tracking and Event Data\n",
    "In this Notebook we will be working with player tracking data, and create shot maps with both tracking and event data provided by Metrica Sports (https://github.com/metrica-sports/sample-data)"
   ]
  },
  {
   "cell_type": "code",
   "execution_count": 1,
   "metadata": {},
   "outputs": [
    {
     "name": "stdout",
     "output_type": "stream",
     "text": [
      "The history saving thread hit an unexpected error (DatabaseError('database disk image is malformed')).History will not be written to the database.\n"
     ]
    }
   ],
   "source": [
    "#import libraries\n",
    "import matplotlib.pyplot as plt\n",
    "import pandas as pd\n",
    "import Metrica_IO as mio\n",
    "import Metrica_VIZ as mviz"
   ]
  },
  {
   "cell_type": "code",
   "execution_count": 2,
   "metadata": {},
   "outputs": [],
   "source": [
    "#get the url's from the Metrica Sports github page, with sample game 1 and 2\n",
    "game1_events = \"https://raw.githubusercontent.com/metrica-sports/sample-data/master/data/Sample_Game_1/Sample_Game_1_RawEventsData.csv\"\n",
    "game1_away_tracking = \"https://raw.githubusercontent.com/metrica-sports/sample-data/master/data/Sample_Game_1/Sample_Game_1_RawTrackingData_Away_Team.csv\"\n",
    "game1_home_tracking = \"https://raw.githubusercontent.com/metrica-sports/sample-data/master/data/Sample_Game_1/Sample_Game_1_RawTrackingData_Home_Team.csv\"\n",
    "\n",
    "game2_events = \"https://raw.githubusercontent.com/metrica-sports/sample-data/master/data/Sample_Game_2/Sample_Game_2_RawEventsData.csv\"\n",
    "game2away_tracking = \"https://raw.githubusercontent.com/metrica-sports/sample-data/master/data/Sample_Game_2/Sample_Game_2_RawTrackingData_Away_Team.csv\"\n",
    "game2_home_tracking = \"https://raw.githubusercontent.com/metrica-sports/sample-data/master/data/Sample_Game_1/Sample_Game_1_RawTrackingData_Home_Team.csv\""
   ]
  },
  {
   "cell_type": "code",
   "execution_count": 3,
   "metadata": {},
   "outputs": [
    {
     "name": "stderr",
     "output_type": "stream",
     "text": [
      "/home/rcr1/miniconda3/lib/python3.7/site-packages/IPython/core/interactiveshell.py:3072: DtypeWarning: Columns (0,1,2,3,5,7,9,11,13,15,17,19,21,23,25,27,29,31) have mixed types.Specify dtype option on import or set low_memory=False.\n",
      "  interactivity=interactivity, compiler=compiler, result=result)\n"
     ]
    }
   ],
   "source": [
    "#load data\n",
    "df_events1 = pd.read_csv(game1_events)\n",
    "df_track_away1 = pd.read_csv(game1_away_tracking)\n",
    "df_track_home1 = pd.read_csv(game1_home_tracking)"
   ]
  },
  {
   "cell_type": "markdown",
   "metadata": {},
   "source": [
    "### Explore our event data"
   ]
  },
  {
   "cell_type": "code",
   "execution_count": 4,
   "metadata": {},
   "outputs": [
    {
     "data": {
      "text/html": [
       "<div>\n",
       "<style scoped>\n",
       "    .dataframe tbody tr th:only-of-type {\n",
       "        vertical-align: middle;\n",
       "    }\n",
       "\n",
       "    .dataframe tbody tr th {\n",
       "        vertical-align: top;\n",
       "    }\n",
       "\n",
       "    .dataframe thead th {\n",
       "        text-align: right;\n",
       "    }\n",
       "</style>\n",
       "<table border=\"1\" class=\"dataframe\">\n",
       "  <thead>\n",
       "    <tr style=\"text-align: right;\">\n",
       "      <th></th>\n",
       "      <th>Team</th>\n",
       "      <th>Type</th>\n",
       "      <th>Subtype</th>\n",
       "      <th>Period</th>\n",
       "      <th>Start Frame</th>\n",
       "      <th>Start Time [s]</th>\n",
       "      <th>End Frame</th>\n",
       "      <th>End Time [s]</th>\n",
       "      <th>From</th>\n",
       "      <th>To</th>\n",
       "      <th>Start X</th>\n",
       "      <th>Start Y</th>\n",
       "      <th>End X</th>\n",
       "      <th>End Y</th>\n",
       "    </tr>\n",
       "  </thead>\n",
       "  <tbody>\n",
       "    <tr>\n",
       "      <th>0</th>\n",
       "      <td>Away</td>\n",
       "      <td>SET PIECE</td>\n",
       "      <td>KICK OFF</td>\n",
       "      <td>1</td>\n",
       "      <td>1</td>\n",
       "      <td>0.04</td>\n",
       "      <td>0</td>\n",
       "      <td>0.00</td>\n",
       "      <td>Player19</td>\n",
       "      <td>NaN</td>\n",
       "      <td>NaN</td>\n",
       "      <td>NaN</td>\n",
       "      <td>NaN</td>\n",
       "      <td>NaN</td>\n",
       "    </tr>\n",
       "    <tr>\n",
       "      <th>1</th>\n",
       "      <td>Away</td>\n",
       "      <td>PASS</td>\n",
       "      <td>NaN</td>\n",
       "      <td>1</td>\n",
       "      <td>1</td>\n",
       "      <td>0.04</td>\n",
       "      <td>3</td>\n",
       "      <td>0.12</td>\n",
       "      <td>Player19</td>\n",
       "      <td>Player21</td>\n",
       "      <td>0.45</td>\n",
       "      <td>0.39</td>\n",
       "      <td>0.55</td>\n",
       "      <td>0.43</td>\n",
       "    </tr>\n",
       "    <tr>\n",
       "      <th>2</th>\n",
       "      <td>Away</td>\n",
       "      <td>PASS</td>\n",
       "      <td>NaN</td>\n",
       "      <td>1</td>\n",
       "      <td>3</td>\n",
       "      <td>0.12</td>\n",
       "      <td>17</td>\n",
       "      <td>0.68</td>\n",
       "      <td>Player21</td>\n",
       "      <td>Player15</td>\n",
       "      <td>0.55</td>\n",
       "      <td>0.43</td>\n",
       "      <td>0.58</td>\n",
       "      <td>0.21</td>\n",
       "    </tr>\n",
       "    <tr>\n",
       "      <th>3</th>\n",
       "      <td>Away</td>\n",
       "      <td>PASS</td>\n",
       "      <td>NaN</td>\n",
       "      <td>1</td>\n",
       "      <td>45</td>\n",
       "      <td>1.80</td>\n",
       "      <td>61</td>\n",
       "      <td>2.44</td>\n",
       "      <td>Player15</td>\n",
       "      <td>Player19</td>\n",
       "      <td>0.55</td>\n",
       "      <td>0.19</td>\n",
       "      <td>0.45</td>\n",
       "      <td>0.31</td>\n",
       "    </tr>\n",
       "    <tr>\n",
       "      <th>4</th>\n",
       "      <td>Away</td>\n",
       "      <td>PASS</td>\n",
       "      <td>NaN</td>\n",
       "      <td>1</td>\n",
       "      <td>77</td>\n",
       "      <td>3.08</td>\n",
       "      <td>96</td>\n",
       "      <td>3.84</td>\n",
       "      <td>Player19</td>\n",
       "      <td>Player21</td>\n",
       "      <td>0.45</td>\n",
       "      <td>0.32</td>\n",
       "      <td>0.49</td>\n",
       "      <td>0.47</td>\n",
       "    </tr>\n",
       "  </tbody>\n",
       "</table>\n",
       "</div>"
      ],
      "text/plain": [
       "   Team       Type   Subtype  Period  Start Frame  Start Time [s]  End Frame  \\\n",
       "0  Away  SET PIECE  KICK OFF       1            1            0.04          0   \n",
       "1  Away       PASS       NaN       1            1            0.04          3   \n",
       "2  Away       PASS       NaN       1            3            0.12         17   \n",
       "3  Away       PASS       NaN       1           45            1.80         61   \n",
       "4  Away       PASS       NaN       1           77            3.08         96   \n",
       "\n",
       "   End Time [s]      From        To  Start X  Start Y  End X  End Y  \n",
       "0          0.00  Player19       NaN      NaN      NaN    NaN    NaN  \n",
       "1          0.12  Player19  Player21     0.45     0.39   0.55   0.43  \n",
       "2          0.68  Player21  Player15     0.55     0.43   0.58   0.21  \n",
       "3          2.44  Player15  Player19     0.55     0.19   0.45   0.31  \n",
       "4          3.84  Player19  Player21     0.45     0.32   0.49   0.47  "
      ]
     },
     "execution_count": 4,
     "metadata": {},
     "output_type": "execute_result"
    }
   ],
   "source": [
    "#initial look\n",
    "df_events1.head()"
   ]
  },
  {
   "cell_type": "code",
   "execution_count": 5,
   "metadata": {},
   "outputs": [
    {
     "data": {
      "text/plain": [
       "PASS              799\n",
       "RECOVERY          278\n",
       "BALL LOST         257\n",
       "CHALLENGE         233\n",
       "SET PIECE          77\n",
       "BALL OUT           51\n",
       "SHOT               24\n",
       "FAULT RECEIVED     22\n",
       "CARD                4\n",
       "Name: Type, dtype: int64"
      ]
     },
     "execution_count": 5,
     "metadata": {},
     "output_type": "execute_result"
    }
   ],
   "source": [
    "#see which events has occured in the match\n",
    "df_events1[\"Type\"].value_counts()"
   ]
  },
  {
   "cell_type": "markdown",
   "metadata": {},
   "source": [
    "Change the coordinate system of the Metrica start- and end locations from ranging between 0 and 1 to pitch length of 106 m. and pitch width of 53 m. with origin in the middle."
   ]
  },
  {
   "cell_type": "code",
   "execution_count": 6,
   "metadata": {},
   "outputs": [],
   "source": [
    "df_events1 = mio.to_metric_coordinates(df_events1)"
   ]
  },
  {
   "cell_type": "markdown",
   "metadata": {},
   "source": [
    "### Assign events to home- and away team."
   ]
  },
  {
   "cell_type": "code",
   "execution_count": 7,
   "metadata": {},
   "outputs": [],
   "source": [
    "home_events = df_events1[df_events1[\"Team\"] == \"Home\"]\n",
    "away_events = df_events1[df_events1[\"Team\"] == \"Away\"]"
   ]
  },
  {
   "cell_type": "code",
   "execution_count": 8,
   "metadata": {},
   "outputs": [
    {
     "data": {
      "text/plain": [
       "PASS              437\n",
       "RECOVERY          135\n",
       "BALL LOST         129\n",
       "CHALLENGE         118\n",
       "SET PIECE          45\n",
       "SHOT               18\n",
       "BALL OUT           18\n",
       "FAULT RECEIVED     15\n",
       "CARD                2\n",
       "Name: Type, dtype: int64"
      ]
     },
     "execution_count": 8,
     "metadata": {},
     "output_type": "execute_result"
    }
   ],
   "source": [
    "home_events[\"Type\"].value_counts()"
   ]
  },
  {
   "cell_type": "code",
   "execution_count": 9,
   "metadata": {},
   "outputs": [
    {
     "data": {
      "text/plain": [
       "PASS              362\n",
       "RECOVERY          143\n",
       "BALL LOST         128\n",
       "CHALLENGE         115\n",
       "BALL OUT           33\n",
       "SET PIECE          32\n",
       "FAULT RECEIVED      7\n",
       "SHOT                6\n",
       "CARD                2\n",
       "Name: Type, dtype: int64"
      ]
     },
     "execution_count": 9,
     "metadata": {},
     "output_type": "execute_result"
    }
   ],
   "source": [
    "away_events[\"Type\"].value_counts()"
   ]
  },
  {
   "cell_type": "markdown",
   "metadata": {},
   "source": [
    "### Looking into the shots data"
   ]
  },
  {
   "cell_type": "code",
   "execution_count": 10,
   "metadata": {},
   "outputs": [],
   "source": [
    "#create a dataframe of all shots\n",
    "shots = df_events1[df_events1[\"Type\"] == \"SHOT\"]"
   ]
  },
  {
   "cell_type": "code",
   "execution_count": 11,
   "metadata": {},
   "outputs": [],
   "source": [
    "#divide the shots in home- and away shots\n",
    "home_shots = home_events[home_events.Type == \"SHOT\"]\n",
    "away_shots = away_events[away_events.Type == \"SHOT\"]"
   ]
  },
  {
   "cell_type": "code",
   "execution_count": 12,
   "metadata": {},
   "outputs": [
    {
     "name": "stdout",
     "output_type": "stream",
     "text": [
      "OFF TARGET-OUT          6\n",
      "HEAD-OFF TARGET-OUT     2\n",
      "ON TARGET-GOAL          2\n",
      "HEAD-ON TARGET-SAVED    2\n",
      "ON TARGET-SAVED         2\n",
      "HEAD-WOODWORK-OUT       1\n",
      "OFF TARGET              1\n",
      "BLOCKED                 1\n",
      "HEAD-ON TARGET-GOAL     1\n",
      "Name: Subtype, dtype: int64\n",
      "ON TARGET-SAVED    3\n",
      "OFF TARGET-OUT     3\n",
      "Name: Subtype, dtype: int64\n"
     ]
    }
   ],
   "source": [
    "#look into the different subtypes (header, free kicks etc.)\n",
    "print(home_shots[\"Subtype\"].value_counts())\n",
    "print(away_shots[\"Subtype\"].value_counts())"
   ]
  },
  {
   "cell_type": "markdown",
   "metadata": {},
   "source": [
    "### Explore the goals"
   ]
  },
  {
   "cell_type": "code",
   "execution_count": 15,
   "metadata": {},
   "outputs": [],
   "source": [
    "#extract home and away goals (using pandas str.contains())\n",
    "home_goals = home_shots[home_shots[\"Subtype\"].str.contains(\"-GOAL\")].copy()\n",
    "away_goals = away_shots[away_shots[\"Subtype\"].str.contains(\"-GOAL\")].copy()"
   ]
  },
  {
   "cell_type": "code",
   "execution_count": 16,
   "metadata": {},
   "outputs": [],
   "source": [
    "#get minute timings\n",
    "home_goals[\"Minute\"] = home_goals[\"Start Time [s]\"]/60"
   ]
  },
  {
   "cell_type": "markdown",
   "metadata": {},
   "source": [
    "We will now plot the goals"
   ]
  },
  {
   "cell_type": "code",
   "execution_count": 18,
   "metadata": {},
   "outputs": [
    {
     "data": {
      "text/plain": [
       "Text(4.240000000000004, -23.119999999999997, '')"
      ]
     },
     "execution_count": 18,
     "metadata": {},
     "output_type": "execute_result"
    },
    {
     "data": {
      "image/png": "[encoded data removed]",
      "text/plain": [
       "<Figure size 864x576 with 1 Axes>"
      ]
     },
     "metadata": {},
     "output_type": "display_data"
    }
   ],
   "source": [
    "fig, ax = mviz.plot_pitch()\n",
    "ax.plot(df_events1.loc[198][\"Start X\"], df_events1.loc[198][\"Start Y\"])\n",
    "ax.annotate(\"\", xy = df_events1.loc[198][[\"End X\", \"End Y\"]], xytext = df_events1.loc[198][[\"Start X\", \"Start Y\"]], alpha = 0)"
   ]
  },
  {
   "cell_type": "code",
   "execution_count": null,
   "metadata": {},
   "outputs": [],
   "source": []
  }
 ],
 "metadata": {
  "kernelspec": {
   "display_name": "Python 3",
   "language": "python",
   "name": "python3"
  },
  "language_info": {
   "codemirror_mode": {
    "name": "ipython",
    "version": 3
   },
   "file_extension": ".py",
   "mimetype": "text/x-python",
   "name": "python",
   "nbconvert_exporter": "python",
   "pygments_lexer": "ipython3",
   "version": "3.7.7"
  }
 },
 "nbformat": 4,
 "nbformat_minor": 4
}
