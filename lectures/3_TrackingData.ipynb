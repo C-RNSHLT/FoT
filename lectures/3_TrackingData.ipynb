{
 "cells": [
  {
   "cell_type": "markdown",
   "metadata": {},
   "source": [
    "# 3. Tracking and Event Data\n",
    "In this Notebook we will be working with player tracking data, and create shot maps with both tracking and event data provided by Metrica Sports (https://github.com/metrica-sports/sample-data)"
   ]
  },
  {
   "cell_type": "code",
   "execution_count": 1,
   "metadata": {
    "tags": []
   },
   "outputs": [
    {
     "name": "stdout",
     "output_type": "stream",
     "text": [
      "The history saving thread hit an unexpected error (DatabaseError('database disk image is malformed')).History will not be written to the database.\n"
     ]
    }
   ],
   "source": [
    "#import libraries\n",
    "import matplotlib.pyplot as plt\n",
    "import pandas as pd\n",
    "import Metrica_IO as mio\n",
    "import Metrica_VIZ as mviz"
   ]
  },
  {
   "cell_type": "code",
   "execution_count": 2,
   "metadata": {},
   "outputs": [],
   "source": [
    "#get the url's from the Metrica Sports github page, with sample game 1 and 2\n",
    "game1_events = \"https://raw.githubusercontent.com/metrica-sports/sample-data/master/data/Sample_Game_1/Sample_Game_1_RawEventsData.csv\"\n",
    "game1_away_tracking = \"https://raw.githubusercontent.com/metrica-sports/sample-data/master/data/Sample_Game_1/Sample_Game_1_RawTrackingData_Away_Team.csv\"\n",
    "game1_home_tracking = \"https://raw.githubusercontent.com/metrica-sports/sample-data/master/data/Sample_Game_1/Sample_Game_1_RawTrackingData_Home_Team.csv\"\n",
    "\n",
    "game2_events = \"https://raw.githubusercontent.com/metrica-sports/sample-data/master/data/Sample_Game_2/Sample_Game_2_RawEventsData.csv\"\n",
    "game2_away_tracking = \"https://raw.githubusercontent.com/metrica-sports/sample-data/master/data/Sample_Game_2/Sample_Game_2_RawTrackingData_Away_Team.csv\"\n",
    "game2_home_tracking = \"https://raw.githubusercontent.com/metrica-sports/sample-data/master/data/Sample_Game_1/Sample_Game_1_RawTrackingData_Home_Team.csv\""
   ]
  },
  {
   "cell_type": "code",
   "execution_count": 3,
   "metadata": {},
   "outputs": [
    {
     "name": "stderr",
     "output_type": "stream",
     "text": [
      "/home/rcr1/miniconda3/lib/python3.7/site-packages/IPython/core/interactiveshell.py:3072: DtypeWarning: Columns (0,1,2,3,5,7,9,11,13,15,17,19,21,23,25,27) have mixed types.Specify dtype option on import or set low_memory=False.\n",
      "  interactivity=interactivity, compiler=compiler, result=result)\n",
      "/home/rcr1/miniconda3/lib/python3.7/site-packages/IPython/core/interactiveshell.py:3072: DtypeWarning: Columns (0,1,2,3,5,7,9,11,13,15,17,19,21,23,25,27,29,31) have mixed types.Specify dtype option on import or set low_memory=False.\n",
      "  interactivity=interactivity, compiler=compiler, result=result)\n"
     ]
    }
   ],
   "source": [
    "#load data\n",
    "df_events2 = pd.read_csv(game2_events)\n",
    "df_track_away2 = pd.read_csv(game2_away_tracking)\n",
    "df_track_home2 = pd.read_csv(game2_home_tracking)"
   ]
  },
  {
   "cell_type": "markdown",
   "metadata": {},
   "source": [
    "### Explore our event data"
   ]
  },
  {
   "cell_type": "code",
   "execution_count": 4,
   "metadata": {},
   "outputs": [
    {
     "data": {
      "text/html": [
       "<div>\n",
       "<style scoped>\n",
       "    .dataframe tbody tr th:only-of-type {\n",
       "        vertical-align: middle;\n",
       "    }\n",
       "\n",
       "    .dataframe tbody tr th {\n",
       "        vertical-align: top;\n",
       "    }\n",
       "\n",
       "    .dataframe thead th {\n",
       "        text-align: right;\n",
       "    }\n",
       "</style>\n",
       "<table border=\"1\" class=\"dataframe\">\n",
       "  <thead>\n",
       "    <tr style=\"text-align: right;\">\n",
       "      <th></th>\n",
       "      <th>Team</th>\n",
       "      <th>Type</th>\n",
       "      <th>Subtype</th>\n",
       "      <th>Period</th>\n",
       "      <th>Start Frame</th>\n",
       "      <th>Start Time [s]</th>\n",
       "      <th>End Frame</th>\n",
       "      <th>End Time [s]</th>\n",
       "      <th>From</th>\n",
       "      <th>To</th>\n",
       "      <th>Start X</th>\n",
       "      <th>Start Y</th>\n",
       "      <th>End X</th>\n",
       "      <th>End Y</th>\n",
       "    </tr>\n",
       "  </thead>\n",
       "  <tbody>\n",
       "    <tr>\n",
       "      <th>0</th>\n",
       "      <td>Away</td>\n",
       "      <td>SET PIECE</td>\n",
       "      <td>KICK OFF</td>\n",
       "      <td>1</td>\n",
       "      <td>51</td>\n",
       "      <td>2.04</td>\n",
       "      <td>51</td>\n",
       "      <td>2.04</td>\n",
       "      <td>Player23</td>\n",
       "      <td>NaN</td>\n",
       "      <td>NaN</td>\n",
       "      <td>NaN</td>\n",
       "      <td>NaN</td>\n",
       "      <td>NaN</td>\n",
       "    </tr>\n",
       "    <tr>\n",
       "      <th>1</th>\n",
       "      <td>Away</td>\n",
       "      <td>PASS</td>\n",
       "      <td>NaN</td>\n",
       "      <td>1</td>\n",
       "      <td>51</td>\n",
       "      <td>2.04</td>\n",
       "      <td>87</td>\n",
       "      <td>3.48</td>\n",
       "      <td>Player23</td>\n",
       "      <td>Player20</td>\n",
       "      <td>0.50</td>\n",
       "      <td>0.50</td>\n",
       "      <td>0.40</td>\n",
       "      <td>0.51</td>\n",
       "    </tr>\n",
       "    <tr>\n",
       "      <th>2</th>\n",
       "      <td>Away</td>\n",
       "      <td>PASS</td>\n",
       "      <td>NaN</td>\n",
       "      <td>1</td>\n",
       "      <td>146</td>\n",
       "      <td>5.84</td>\n",
       "      <td>186</td>\n",
       "      <td>7.44</td>\n",
       "      <td>Player20</td>\n",
       "      <td>Player18</td>\n",
       "      <td>0.43</td>\n",
       "      <td>0.50</td>\n",
       "      <td>0.44</td>\n",
       "      <td>0.22</td>\n",
       "    </tr>\n",
       "    <tr>\n",
       "      <th>3</th>\n",
       "      <td>Away</td>\n",
       "      <td>PASS</td>\n",
       "      <td>NaN</td>\n",
       "      <td>1</td>\n",
       "      <td>248</td>\n",
       "      <td>9.92</td>\n",
       "      <td>283</td>\n",
       "      <td>11.32</td>\n",
       "      <td>Player18</td>\n",
       "      <td>Player17</td>\n",
       "      <td>0.47</td>\n",
       "      <td>0.19</td>\n",
       "      <td>0.31</td>\n",
       "      <td>0.28</td>\n",
       "    </tr>\n",
       "    <tr>\n",
       "      <th>4</th>\n",
       "      <td>Away</td>\n",
       "      <td>PASS</td>\n",
       "      <td>NaN</td>\n",
       "      <td>1</td>\n",
       "      <td>316</td>\n",
       "      <td>12.64</td>\n",
       "      <td>346</td>\n",
       "      <td>13.84</td>\n",
       "      <td>Player17</td>\n",
       "      <td>Player16</td>\n",
       "      <td>0.29</td>\n",
       "      <td>0.32</td>\n",
       "      <td>0.26</td>\n",
       "      <td>0.58</td>\n",
       "    </tr>\n",
       "  </tbody>\n",
       "</table>\n",
       "</div>"
      ],
      "text/plain": [
       "   Team       Type   Subtype  Period  Start Frame  Start Time [s]  End Frame  \\\n",
       "0  Away  SET PIECE  KICK OFF       1           51            2.04         51   \n",
       "1  Away       PASS       NaN       1           51            2.04         87   \n",
       "2  Away       PASS       NaN       1          146            5.84        186   \n",
       "3  Away       PASS       NaN       1          248            9.92        283   \n",
       "4  Away       PASS       NaN       1          316           12.64        346   \n",
       "\n",
       "   End Time [s]      From        To  Start X  Start Y  End X  End Y  \n",
       "0          2.04  Player23       NaN      NaN      NaN    NaN    NaN  \n",
       "1          3.48  Player23  Player20     0.50     0.50   0.40   0.51  \n",
       "2          7.44  Player20  Player18     0.43     0.50   0.44   0.22  \n",
       "3         11.32  Player18  Player17     0.47     0.19   0.31   0.28  \n",
       "4         13.84  Player17  Player16     0.29     0.32   0.26   0.58  "
      ]
     },
     "execution_count": 4,
     "metadata": {},
     "output_type": "execute_result"
    }
   ],
   "source": [
    "#initial look\n",
    "df_events2.head()"
   ]
  },
  {
   "cell_type": "code",
   "execution_count": 5,
   "metadata": {},
   "outputs": [
    {
     "data": {
      "text/plain": [
       "PASS              964\n",
       "CHALLENGE         311\n",
       "RECOVERY          248\n",
       "BALL LOST         233\n",
       "SET PIECE          80\n",
       "BALL OUT           49\n",
       "SHOT               24\n",
       "FAULT RECEIVED     20\n",
       "CARD                6\n",
       "Name: Type, dtype: int64"
      ]
     },
     "execution_count": 5,
     "metadata": {},
     "output_type": "execute_result"
    }
   ],
   "source": [
    "#see which events has occured in the match\n",
    "df_events2[\"Type\"].value_counts()"
   ]
  },
  {
   "cell_type": "markdown",
   "metadata": {},
   "source": [
    "Change the coordinate system of the Metrica start- and end locations from ranging between 0 and 1 to pitch length of 106 m. and pitch width of 53 m. with origin in the middle."
   ]
  },
  {
   "cell_type": "code",
   "execution_count": 6,
   "metadata": {},
   "outputs": [],
   "source": [
    "df_events2 = mio.to_metric_coordinates(df_events2)"
   ]
  },
  {
   "cell_type": "markdown",
   "metadata": {},
   "source": [
    "### Assign events to home- and away team."
   ]
  },
  {
   "cell_type": "code",
   "execution_count": 7,
   "metadata": {},
   "outputs": [],
   "source": [
    "home_events = df_events2[df_events2[\"Team\"] == \"Home\"]\n",
    "away_events = df_events2[df_events2[\"Team\"] == \"Away\"]"
   ]
  },
  {
   "cell_type": "code",
   "execution_count": 8,
   "metadata": {},
   "outputs": [
    {
     "data": {
      "text/plain": [
       "PASS              543\n",
       "CHALLENGE         160\n",
       "RECOVERY          135\n",
       "BALL LOST         120\n",
       "SET PIECE          34\n",
       "BALL OUT           27\n",
       "SHOT               13\n",
       "FAULT RECEIVED      9\n",
       "CARD                3\n",
       "Name: Type, dtype: int64"
      ]
     },
     "execution_count": 8,
     "metadata": {},
     "output_type": "execute_result"
    }
   ],
   "source": [
    "home_events[\"Type\"].value_counts()"
   ]
  },
  {
   "cell_type": "code",
   "execution_count": 9,
   "metadata": {},
   "outputs": [
    {
     "data": {
      "text/plain": [
       "PASS              421\n",
       "CHALLENGE         151\n",
       "RECOVERY          113\n",
       "BALL LOST         113\n",
       "SET PIECE          46\n",
       "BALL OUT           22\n",
       "SHOT               11\n",
       "FAULT RECEIVED     11\n",
       "CARD                3\n",
       "Name: Type, dtype: int64"
      ]
     },
     "execution_count": 9,
     "metadata": {},
     "output_type": "execute_result"
    }
   ],
   "source": [
    "away_events[\"Type\"].value_counts()"
   ]
  },
  {
   "cell_type": "markdown",
   "metadata": {},
   "source": [
    "### Looking into the shots data"
   ]
  },
  {
   "cell_type": "code",
   "execution_count": 10,
   "metadata": {},
   "outputs": [],
   "source": [
    "#create a dataframe of all shots\n",
    "shots = df_events2[df_events2[\"Type\"] == \"SHOT\"]"
   ]
  },
  {
   "cell_type": "code",
   "execution_count": 11,
   "metadata": {},
   "outputs": [],
   "source": [
    "#divide the shots in home- and away shots\n",
    "home_shots = home_events[home_events.Type == \"SHOT\"]\n",
    "away_shots = away_events[away_events.Type == \"SHOT\"]"
   ]
  },
  {
   "cell_type": "code",
   "execution_count": 12,
   "metadata": {},
   "outputs": [
    {
     "name": "stdout",
     "output_type": "stream",
     "text": [
      "ON TARGET-SAVED        4\n",
      "HEAD-OFF TARGET-OUT    4\n",
      "OFF TARGET-OUT         2\n",
      "ON TARGET-GOAL         2\n",
      "HEAD-ON TARGET-GOAL    1\n",
      "Name: Subtype, dtype: int64\n",
      "OFF TARGET-OUT         3\n",
      "ON TARGET-SAVED        2\n",
      "BLOCKED                2\n",
      "ON TARGET-GOAL         2\n",
      "HEAD-OFF TARGET-OUT    1\n",
      "OFF TARGET-HEAD-OUT    1\n",
      "Name: Subtype, dtype: int64\n"
     ]
    }
   ],
   "source": [
    "#look into the different subtypes (header, free kicks etc.)\n",
    "print(home_shots[\"Subtype\"].value_counts())\n",
    "print(away_shots[\"Subtype\"].value_counts())"
   ]
  },
  {
   "cell_type": "markdown",
   "metadata": {},
   "source": [
    "### Extract the goals"
   ]
  },
  {
   "cell_type": "code",
   "execution_count": 13,
   "metadata": {},
   "outputs": [],
   "source": [
    "#extract home and away goals (using pandas str.contains())\n",
    "home_goals = home_shots[home_shots[\"Subtype\"].str.contains(\"-GOAL\")].copy()\n",
    "away_goals = away_shots[away_shots[\"Subtype\"].str.contains(\"-GOAL\")].copy()"
   ]
  },
  {
   "cell_type": "code",
   "execution_count": 14,
   "metadata": {},
   "outputs": [],
   "source": [
    "#get minute timings\n",
    "home_goals[\"Minute\"] = home_goals[\"Start Time [s]\"]/60"
   ]
  },
  {
   "cell_type": "code",
   "execution_count": 17,
   "metadata": {},
   "outputs": [
    {
     "data": {
      "text/html": [
       "<div>\n",
       "<style scoped>\n",
       "    .dataframe tbody tr th:only-of-type {\n",
       "        vertical-align: middle;\n",
       "    }\n",
       "\n",
       "    .dataframe tbody tr th {\n",
       "        vertical-align: top;\n",
       "    }\n",
       "\n",
       "    .dataframe thead th {\n",
       "        text-align: right;\n",
       "    }\n",
       "</style>\n",
       "<table border=\"1\" class=\"dataframe\">\n",
       "  <thead>\n",
       "    <tr style=\"text-align: right;\">\n",
       "      <th></th>\n",
       "      <th>Team</th>\n",
       "      <th>Type</th>\n",
       "      <th>Subtype</th>\n",
       "      <th>Period</th>\n",
       "      <th>Start Frame</th>\n",
       "      <th>Start Time [s]</th>\n",
       "      <th>End Frame</th>\n",
       "      <th>End Time [s]</th>\n",
       "      <th>From</th>\n",
       "      <th>To</th>\n",
       "      <th>Start X</th>\n",
       "      <th>Start Y</th>\n",
       "      <th>End X</th>\n",
       "      <th>End Y</th>\n",
       "      <th>Minute</th>\n",
       "    </tr>\n",
       "  </thead>\n",
       "  <tbody>\n",
       "    <tr>\n",
       "      <th>198</th>\n",
       "      <td>Home</td>\n",
       "      <td>SHOT</td>\n",
       "      <td>ON TARGET-GOAL</td>\n",
       "      <td>1</td>\n",
       "      <td>12202</td>\n",
       "      <td>488.08</td>\n",
       "      <td>12212</td>\n",
       "      <td>488.48</td>\n",
       "      <td>Player10</td>\n",
       "      <td>NaN</td>\n",
       "      <td>-47.70</td>\n",
       "      <td>-3.40</td>\n",
       "      <td>-54.06</td>\n",
       "      <td>-2.04</td>\n",
       "      <td>8.134667</td>\n",
       "    </tr>\n",
       "    <tr>\n",
       "      <th>1118</th>\n",
       "      <td>Home</td>\n",
       "      <td>SHOT</td>\n",
       "      <td>HEAD-ON TARGET-GOAL</td>\n",
       "      <td>2</td>\n",
       "      <td>73983</td>\n",
       "      <td>2959.32</td>\n",
       "      <td>73995</td>\n",
       "      <td>2959.80</td>\n",
       "      <td>Player9</td>\n",
       "      <td>NaN</td>\n",
       "      <td>47.70</td>\n",
       "      <td>-1.36</td>\n",
       "      <td>54.06</td>\n",
       "      <td>-2.04</td>\n",
       "      <td>49.322000</td>\n",
       "    </tr>\n",
       "    <tr>\n",
       "      <th>1723</th>\n",
       "      <td>Home</td>\n",
       "      <td>SHOT</td>\n",
       "      <td>ON TARGET-GOAL</td>\n",
       "      <td>2</td>\n",
       "      <td>121027</td>\n",
       "      <td>4841.08</td>\n",
       "      <td>121055</td>\n",
       "      <td>4842.20</td>\n",
       "      <td>Player12</td>\n",
       "      <td>NaN</td>\n",
       "      <td>30.74</td>\n",
       "      <td>-5.44</td>\n",
       "      <td>54.06</td>\n",
       "      <td>-2.72</td>\n",
       "      <td>80.684667</td>\n",
       "    </tr>\n",
       "  </tbody>\n",
       "</table>\n",
       "</div>"
      ],
      "text/plain": [
       "      Team  Type              Subtype  Period  Start Frame  Start Time [s]  \\\n",
       "198   Home  SHOT       ON TARGET-GOAL       1        12202          488.08   \n",
       "1118  Home  SHOT  HEAD-ON TARGET-GOAL       2        73983         2959.32   \n",
       "1723  Home  SHOT       ON TARGET-GOAL       2       121027         4841.08   \n",
       "\n",
       "      End Frame  End Time [s]      From   To  Start X  Start Y  End X  End Y  \\\n",
       "198       12212        488.48  Player10  NaN   -47.70    -3.40 -54.06  -2.04   \n",
       "1118      73995       2959.80   Player9  NaN    47.70    -1.36  54.06  -2.04   \n",
       "1723     121055       4842.20  Player12  NaN    30.74    -5.44  54.06  -2.72   \n",
       "\n",
       "         Minute  \n",
       "198    8.134667  \n",
       "1118  49.322000  \n",
       "1723  80.684667  "
      ]
     },
     "execution_count": 17,
     "metadata": {},
     "output_type": "execute_result"
    }
   ],
   "source": [
    "home_goals"
   ]
  },
  {
   "cell_type": "markdown",
   "metadata": {},
   "source": [
    "We will now plot the first goal and the passing move leading up to the goal. The goal has index `198` and the passing move starts at index `190`"
   ]
  },
  {
   "cell_type": "code",
   "execution_count": 21,
   "metadata": {},
   "outputs": [
    {
     "data": {
      "image/png": "[encoded data removed]",
      "text/plain": [
       "<Figure size 864x576 with 1 Axes>"
      ]
     },
     "metadata": {},
     "output_type": "display_data"
    }
   ],
   "source": [
    "fig, ax = mviz.plot_pitch()\n",
    "ax.plot(df_events2.loc[198][\"Start X\"], df_events2.loc[198][\"Start Y\"], \"ro\")\n",
    "ax.annotate(\"\", xy = df_events2.loc[198][[\"End X\", \"End Y\"]], xytext = df_events2.loc[198][[\"Start X\", \"Start Y\"]], \n",
    "            alpha = 0, arrowprops = dict(arrowstyle = \"->\", color = \"r\"))\n",
    "\n",
    "#plot passing move leading to the goal\n",
    "mviz.plot_events(df_events2.loc[190:198], indicators = [\"Marker\", \"Arrow\"], figax = (fig, ax))\n",
    "plt.show()"
   ]
  }
 ],
 "metadata": {
  "kernelspec": {
   "display_name": "Python 3",
   "language": "python",
   "name": "python3"
  },
  "language_info": {
   "codemirror_mode": {
    "name": "ipython",
    "version": 3
   },
   "file_extension": ".py",
   "mimetype": "text/x-python",
   "name": "python",
   "nbconvert_exporter": "python",
   "pygments_lexer": "ipython3",
   "version": "3.7.7"
  }
 },
 "nbformat": 4,
 "nbformat_minor": 4
}
