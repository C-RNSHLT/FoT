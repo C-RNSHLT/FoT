{
 "cells": [
  {
   "cell_type": "markdown",
   "metadata": {},
   "source": [
    "## Load World Cup data from StatsBomb"
   ]
  },
  {
   "cell_type": "code",
   "execution_count": 1,
   "metadata": {},
   "outputs": [],
   "source": [
    "#import libraries\n",
    "import json"
   ]
  },
  {
   "cell_type": "code",
   "execution_count": 2,
   "metadata": {},
   "outputs": [],
   "source": [
    "#Load in competitions data\n",
    "with open(\"StatsBomb_data/data/competitions.json\") as file:\n",
    "    competitions = json.load(file)"
   ]
  },
  {
   "cell_type": "markdown",
   "metadata": {},
   "source": [
    "We will look at Mens World cup (mwc) data, which is has ID 43"
   ]
  },
  {
   "cell_type": "code",
   "execution_count": 3,
   "metadata": {},
   "outputs": [],
   "source": [
    "#Load in wwc match event data\n",
    "mwc_id = 43\n",
    "with open(\"StatsBomb_data/data/matches/\"+str(mwc_id)+\"/3.json\", \"r\") as file:\n",
    "    mwc = json.load(file)"
   ]
  },
  {
   "cell_type": "code",
   "execution_count": 4,
   "metadata": {},
   "outputs": [
    {
     "name": "stdout",
     "output_type": "stream",
     "text": [
      "{'match_id': 7562, 'match_date': '2018-06-26', 'kick_off': '16:00:00.000', 'competition': {'competition_id': 43, 'country_name': 'International', 'competition_name': 'FIFA World Cup'}, 'season': {'season_id': 3, 'season_name': '2018'}, 'home_team': {'home_team_id': 792, 'home_team_name': 'Australia', 'home_team_gender': 'male', 'home_team_group': 'Group C', 'country': {'id': 14, 'name': 'Australia'}, 'managers': [{'id': 630, 'name': 'Bert van Marwijk', 'nickname': None, 'dob': '1952-05-19', 'country': {'id': 160, 'name': 'Netherlands'}}]}, 'away_team': {'away_team_id': 784, 'away_team_name': 'Peru', 'away_team_gender': 'male', 'away_team_group': 'Group C', 'country': {'id': 179, 'name': 'Peru'}, 'managers': [{'id': 629, 'name': 'Ricardo Alberto Gareca Nardi', 'nickname': None, 'dob': '1958-02-10', 'country': {'id': 11, 'name': 'Argentina'}}]}, 'home_score': 0, 'away_score': 2, 'match_status': 'available', 'last_updated': '2019-12-16T23:09:16.168756', 'metadata': {'data_version': '1.0.2'}, 'match_week': 3, 'competition_stage': {'id': 10, 'name': 'Group Stage'}, 'stadium': {'id': 249, 'name': 'Olimpiyskiy Stadion Fisht', 'country': {'id': 188, 'name': 'Russia'}}, 'referee': {'id': 725, 'name': 'S. Karasev'}} \n",
      "\n",
      "The home team was: Australia\n",
      "The away team was: Peru\n"
     ]
    }
   ],
   "source": [
    "#Explore data\n",
    "print(mwc[0], \"\\n\")\n",
    "print(\"The home team was:\", mwc[0][\"home_team\"][\"home_team_name\"] + \n",
    "      \"\\nThe away team was:\", mwc[0][\"away_team\"][\"away_team_name\"])"
   ]
  },
  {
   "cell_type": "markdown",
   "metadata": {},
   "source": [
    "### Look at the results of all matches:"
   ]
  },
  {
   "cell_type": "code",
   "execution_count": 5,
   "metadata": {},
   "outputs": [
    {
     "name": "stdout",
     "output_type": "stream",
     "text": [
      "Australia VS Peru\n",
      "0 : 2\n",
      "Nigeria VS Iceland\n",
      "2 : 0\n",
      "Serbia VS Brazil\n",
      "0 : 2\n",
      "Croatia VS Denmark\n",
      "1 : 1\n",
      "Iran VS Portugal\n",
      "1 : 1\n",
      "Mexico VS Sweden\n",
      "0 : 3\n",
      "Brazil VS Costa Rica\n",
      "2 : 0\n",
      "Germany VS Mexico\n",
      "0 : 1\n",
      "Portugal VS Spain\n",
      "3 : 3\n",
      "Russia VS Egypt\n",
      "3 : 1\n",
      "Switzerland VS Costa Rica\n",
      "2 : 2\n",
      "Panama VS Tunisia\n",
      "1 : 2\n",
      "England VS Belgium\n",
      "0 : 1\n",
      "France VS Belgium\n",
      "1 : 0\n",
      "Belgium VS England\n",
      "2 : 0\n",
      "Iran VS Spain\n",
      "0 : 1\n",
      "Uruguay VS Russia\n",
      "3 : 0\n",
      "Croatia VS Nigeria\n",
      "2 : 0\n",
      "Brazil VS Belgium\n",
      "1 : 2\n",
      "France VS Peru\n",
      "1 : 0\n",
      "Tunisia VS England\n",
      "1 : 2\n",
      "France VS Argentina\n",
      "4 : 3\n",
      "Argentina VS Croatia\n",
      "0 : 3\n",
      "Belgium VS Panama\n",
      "3 : 0\n",
      "France VS Australia\n",
      "2 : 1\n",
      "Costa Rica VS Serbia\n",
      "0 : 1\n",
      "Belgium VS Japan\n",
      "3 : 2\n",
      "Uruguay VS France\n",
      "0 : 2\n",
      "Sweden VS South Korea\n",
      "1 : 0\n",
      "Brazil VS Switzerland\n",
      "1 : 1\n",
      "Spain VS Morocco\n",
      "2 : 2\n",
      "Russia VS Saudi Arabia\n",
      "5 : 0\n",
      "Peru VS Denmark\n",
      "0 : 1\n",
      "Poland VS Colombia\n",
      "0 : 3\n",
      "Senegal VS Colombia\n",
      "0 : 1\n",
      "Russia VS Croatia\n",
      "2 : 2\n",
      "South Korea VS Mexico\n",
      "1 : 2\n",
      "Saudi Arabia VS Egypt\n",
      "2 : 1\n",
      "Morocco VS Iran\n",
      "0 : 1\n",
      "Poland VS Senegal\n",
      "1 : 2\n",
      "Serbia VS Switzerland\n",
      "1 : 2\n",
      "Japan VS Senegal\n",
      "2 : 2\n",
      "Iceland VS Croatia\n",
      "1 : 2\n",
      "Sweden VS Switzerland\n",
      "1 : 0\n",
      "Denmark VS France\n",
      "0 : 0\n",
      "Uruguay VS Portugal\n",
      "2 : 1\n",
      "Egypt VS Uruguay\n",
      "0 : 1\n",
      "Sweden VS England\n",
      "0 : 2\n",
      "Argentina VS Iceland\n",
      "1 : 1\n",
      "Belgium VS Tunisia\n",
      "5 : 2\n",
      "France VS Croatia\n",
      "4 : 2\n",
      "Colombia VS England\n",
      "1 : 1\n",
      "England VS Panama\n",
      "6 : 1\n",
      "Portugal VS Morocco\n",
      "1 : 0\n",
      "Germany VS Sweden\n",
      "2 : 1\n",
      "Nigeria VS Argentina\n",
      "1 : 2\n",
      "South Korea VS Germany\n",
      "2 : 0\n",
      "Uruguay VS Saudi Arabia\n",
      "1 : 0\n",
      "Colombia VS Japan\n",
      "1 : 2\n",
      "Brazil VS Mexico\n",
      "2 : 0\n",
      "Japan VS Poland\n",
      "0 : 1\n",
      "Denmark VS Australia\n",
      "1 : 1\n",
      "Spain VS Russia\n",
      "1 : 1\n",
      "Croatia VS England\n",
      "2 : 1\n"
     ]
    }
   ],
   "source": [
    "for match in mwc:\n",
    "    home_team_name = match[\"home_team\"][\"home_team_name\"]\n",
    "    away_team_name = match[\"away_team\"][\"away_team_name\"]\n",
    "    home_score = match[\"home_score\"]\n",
    "    away_score = match[\"away_score\"]\n",
    "    print(home_team_name + \" VS \" + away_team_name + \n",
    "          \"\\n\" + str(home_score) + \" : \" + str(away_score))"
   ]
  },
  {
   "cell_type": "markdown",
   "metadata": {},
   "source": [
    "# Functions"
   ]
  },
  {
   "cell_type": "markdown",
   "metadata": {},
   "source": [
    "In this section I have defined some functions which can show metrics of specific matches."
   ]
  },
  {
   "cell_type": "markdown",
   "metadata": {},
   "source": [
    "### Find match id (find_id)"
   ]
  },
  {
   "cell_type": "code",
   "execution_count": 6,
   "metadata": {},
   "outputs": [],
   "source": [
    "def find_id(home_team, away_team, competition):\n",
    "    for match in competition:\n",
    "        home_team_name = match[\"home_team\"][\"home_team_name\"]\n",
    "        away_team_name = match[\"away_team\"][\"away_team_name\"]\n",
    "        if (home_team_name == home_team) and (away_team_name == away_team):\n",
    "            print(\"The match ID is: \" + str(match[\"match_id\"]))\n",
    "    print(\"Mistake\")"
   ]
  },
  {
   "cell_type": "code",
   "execution_count": 7,
   "metadata": {},
   "outputs": [
    {
     "name": "stdout",
     "output_type": "stream",
     "text": [
      "The match ID is: 7581\n",
      "Mistake\n"
     ]
    }
   ],
   "source": [
    "find_id(\"Croatia\", \"Denmark\", mwc)"
   ]
  },
  {
   "cell_type": "markdown",
   "metadata": {},
   "source": [
    "### Find team results (find_results)"
   ]
  },
  {
   "cell_type": "code",
   "execution_count": 8,
   "metadata": {},
   "outputs": [],
   "source": [
    "def find_results(team, competition):\n",
    "    for match in mwc:\n",
    "        home_team = match[\"home_team\"][\"home_team_name\"]\n",
    "        away_team = match[\"away_team\"][\"away_team_name\"]\n",
    "        if home_team == team or away_team == team:\n",
    "            print(home_team + \" : \" + away_team + \"\\n\"\n",
    "                  + str(match[\"home_score\"]) + \" : \" + str(match[\"away_score\"]))"
   ]
  },
  {
   "cell_type": "code",
   "execution_count": 10,
   "metadata": {},
   "outputs": [
    {
     "name": "stdout",
     "output_type": "stream",
     "text": [
      "Croatia : Denmark\n",
      "1 : 1\n",
      "Croatia : Nigeria\n",
      "2 : 0\n",
      "Argentina : Croatia\n",
      "0 : 3\n",
      "Russia : Croatia\n",
      "2 : 2\n",
      "Iceland : Croatia\n",
      "1 : 2\n",
      "France : Croatia\n",
      "4 : 2\n",
      "Croatia : England\n",
      "2 : 1\n"
     ]
    }
   ],
   "source": [
    "find_results(\"Croatia\", mwc)"
   ]
  }
 ],
 "metadata": {
  "kernelspec": {
   "display_name": "Python 3",
   "language": "python",
   "name": "python3"
  },
  "language_info": {
   "codemirror_mode": {
    "name": "ipython",
    "version": 3
   },
   "file_extension": ".py",
   "mimetype": "text/x-python",
   "name": "python",
   "nbconvert_exporter": "python",
   "pygments_lexer": "ipython3",
   "version": "3.7.6"
  }
 },
 "nbformat": 4,
 "nbformat_minor": 4
}
